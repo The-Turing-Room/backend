{
 "cells": [
  {
   "cell_type": "code",
   "execution_count": 7,
   "metadata": {},
   "outputs": [],
   "source": [
    "import requests"
   ]
  },
  {
   "cell_type": "code",
   "execution_count": 41,
   "metadata": {},
   "outputs": [
    {
     "name": "stdout",
     "output_type": "stream",
     "text": [
      "{'status': 'Success', 'result': {'answer': \"The image shows the Eiffel Tower at twilight or night, illuminated against the darkening sky. The tower's lights give it a golden hue. In the foreground, there is a reflection of the Eiffel Tower on a smooth, reflective surface that could be water. The reflection suggests a calm surface with no ripples. There are also two street lamps visible, one on each side, and their lights are reflected on the surface as well. The surrounding environment is dark, and the sky has a gradient ranging from blue to black, suggesting it is either dusk or dawn.\"}}\n"
     ]
    }
   ],
   "source": [
    "#remote\n",
    "image_url = \"https://www.reuters.com/resizer/NLk9k89J1tfmH-B7XKd598-6j_Y=/960x0/filters:quality(80)/cloudfront-us-east-2.images.arcpublishing.com/reuters/AHF2FYISNJO55J6N35YJBZ2JYY.jpg\"  # Replace with your image URL\n",
    "url = \"http://0.0.0.0:8000/action/\"\n",
    "\n",
    "data = {\n",
    "    \"image_url\": image_url,\n",
    "    \"prompt\": \"Describe this image precisely.\"\n",
    "}\n",
    "\n",
    "response = requests.post(url, json=data, verify=False) \n",
    "print(response.json())\n"
   ]
  },
  {
   "cell_type": "code",
   "execution_count": 44,
   "metadata": {},
   "outputs": [
    {
     "name": "stdout",
     "output_type": "stream",
     "text": [
      "{'status': 'Success', 'result': {'answer': \"The image presents a schematic and a molecular model of DNA - complementary duplex. On the left side, labeled as (B), there's a detailed diagram of a DNA strand, highlighting the base pairs connected by hydrogen bonds between Guanine (G) and Cytosine (C), as well as Adenine (A) and Thymine (T). The sugar-phosphate backbone of the DNA is shown with the phosphate groups and deoxyribose sugars. It indicates the 5' and 3' ends of the DNA strands, and the distance between the base pairs is noted as 0.34 nm. On the right side, labeled as (C), there is a space-filling molecular model of the DNA helix. The dimensions given beside the helix indicate a width of 2 nm. Above this model, a sequence of bases from two complementary strands is shown aligned, with hydrogen bonds marked between them: 5'-GTCA-3' paired with 3'-CAGT-5'. Below these, it is indicated by an arrow that the sequences separate into single strands: 5'-GTCA-3' AND 5'-TGAC-3'. At the bottom of the image, there is a citation that reads 'Figure 1.3b Physical Biology of the Cell, 2ed. (© Garland Science 2013)'.\"}}\n"
     ]
    }
   ],
   "source": [
    "#local\n",
    "image_path = \"/Users/aahd/ai_tools/anthropic/backend/tools/test.png\"\n",
    "\n",
    "url = \"http://0.0.0.0:8000/action/\"\n",
    "data = {\n",
    "    \"image_path\": image_path,\n",
    "    \"prompt\": \"Describe this image precisely.\"\n",
    "}\n",
    "\n",
    "response = requests.post(url, json=data, verify=False)  \n",
    "print(response.json())\n"
   ]
  }
 ],
 "metadata": {
  "kernelspec": {
   "display_name": "Python 3",
   "language": "python",
   "name": "python3"
  },
  "language_info": {
   "codemirror_mode": {
    "name": "ipython",
    "version": 3
   },
   "file_extension": ".py",
   "mimetype": "text/x-python",
   "name": "python",
   "nbconvert_exporter": "python",
   "pygments_lexer": "ipython3",
   "version": "3.11.4"
  }
 },
 "nbformat": 4,
 "nbformat_minor": 2
}
