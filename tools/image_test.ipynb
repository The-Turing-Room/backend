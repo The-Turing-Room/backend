{
 "cells": [
  {
   "cell_type": "code",
   "execution_count": 7,
   "metadata": {},
   "outputs": [],
   "source": [
    "import requests"
   ]
  },
  {
   "cell_type": "code",
   "execution_count": 41,
   "metadata": {},
   "outputs": [
    {
     "name": "stdout",
     "output_type": "stream",
     "text": [
      "{'status': 'Success', 'result': {'answer': \"The image shows the Eiffel Tower at twilight or night, illuminated against the darkening sky. The tower's lights give it a golden hue. In the foreground, there is a reflection of the Eiffel Tower on a smooth, reflective surface that could be water. The reflection suggests a calm surface with no ripples. There are also two street lamps visible, one on each side, and their lights are reflected on the surface as well. The surrounding environment is dark, and the sky has a gradient ranging from blue to black, suggesting it is either dusk or dawn.\"}}\n"
     ]
    }
   ],
   "source": [
    "#remote\n",
    "image_url = \"https://www.reuters.com/resizer/NLk9k89J1tfmH-B7XKd598-6j_Y=/960x0/filters:quality(80)/cloudfront-us-east-2.images.arcpublishing.com/reuters/AHF2FYISNJO55J6N35YJBZ2JYY.jpg\"  # Replace with your image URL\n",
    "url = \"http://0.0.0.0:8000/action/\"\n",
    "\n",
    "data = {\n",
    "    \"image_url\": image_url,\n",
    "    \"prompt\": \"Describe this image precisely.\"\n",
    "}\n",
    "\n",
    "response = requests.post(url, json=data, verify=False) \n",
    "print(response.json())\n"
   ]
  },
  {
   "cell_type": "code",
   "execution_count": 52,
   "metadata": {},
   "outputs": [
    {
     "name": "stdout",
     "output_type": "stream",
     "text": [
      "{'detail': 'Message: \\n'}\n"
     ]
    }
   ],
   "source": [
    "#local\n",
    "image_path = \"/Users/aahd/ai_tools/anthropic/backend/tools/images/img0_1.jpeg\"\n",
    "\n",
    "url = \"http://0.0.0.0:8000/action/\"\n",
    "data = {\n",
    "    \"image_path\": image_path,\n",
    "    \"prompt\": \"Describe this image precisely.\"\n",
    "}\n",
    "\n",
    "response = requests.post(url, json=data, verify=False)  \n",
    "print(response.json())\n"
   ]
  },
  {
   "cell_type": "code",
   "execution_count": 53,
   "metadata": {},
   "outputs": [],
   "source": [
    "test = {'Slide 1': {'Text Input': 'Now we will consider Meiosis (not mitosis as in the previous slide.  Gametesare formed by meiosisin the gonads and are the reproductive cells of an organism. Human female gametes are called ova or egg cells and male gametes are sperm.  Gametes are haploidcells, meaning that there is one copy of each chromosome (23) in each cell. At the start of meiosis in the germ cells, the homologous chromosomes pairs align in close proximity and each of the two chromosomes ‘break’ at the same location, the breaks combine with the opposite chromosome and form a connection, known as a chiasma.  This is called homologous recombination.  Following multiple homologous recombinationsin all the autosomal chromosomes (autosome pair has the same morphology) and in the pseudoautosomalregions of the X/Y chromosomes, the cell divides twice to yield four unique haploidcells called gametes with one complete complement of chromosomes called sister chromatids. Upon cell fusion of a male and female gamete a zygoteis formed (not shown in the schematic).  The zygote is diploid, meaning it contains two copies of the genome, one from each parent meaning that there will be heterogeneity between the two inherited genome sequences. In addition, the inherited sequences will be representative of different ancestral genes due to the multiple recombination events that have occurred during 10\\nInheritance\\nhttps://www.genome.gov/genetics-glossary/Crossing-OverMeiosis –cell division in the germ cells in sexually-reproducing organisms to form the gametes(i.e. sperm and egg)•Paternal chromosomes undergo a ‘cross-over’ –called recombination.•There are an average of 26.4recombination events for male and 41.1 forfemale germ cells.•During fertilization cell fusion between the gametes (sperm and egg) results in a diploid zygote containing one copy each of the genomic DNA from the Paternal and the Maternallineages.•this results in heterogeneityin the inherited genomes between siblings (apart from twins).RECOMBINATIONDiploid germ cell \\n4 haploid gametes', 'Image Explantion': [{'answer': \"The image is a slide from a biology presentation discussing the process of inheritance through meiosis, which is a type of cell division that occurs in germ cells of sexually-reproducing organisms to form gametes, namely sperm and egg cells. It highlights that paternal chromosomes undergo 'cross-over', also known as recombination, which is the exchange of genetic material between chromosomes. On average, there are 26.4 recombination events for male and 41.1 for female germ cells. This process contributes to genetic diversity. The image also depicts the stages of meiosis, showing a diploid germ cell with replicated DNA undergoing recombination, followed by two stages of meiosis that result in four haploid gametes. Fertilization involves the fusion of sperm and egg cells to form a diploid zygote containing genetic information from both paternal and maternal lineages, leading to genetic heterogeneity among siblings, except in the case of identical twins.\"}, {'answer': 'This image illustrates the process of meiosis with the occurrence of crossing over. Meiosis is a type of cell division that reduces the chromosome number by half and is essential for sexual reproduction. The image shows a paternal chromosome (blue) and a maternal chromosome (pink) undergoing DNA replication, resulting in chromosomes that consist of two identical sister chromatids. The next step is where variation can occur: either crossing over happens or it does not. Crossing over is a process where homologous chromosomes exchange segments, leading to genetic recombination. If crossing over occurs, as depicted on the right side of the diagram, the resultant chromosomes have mixed segments of blue and pink, indicating that genetic material has been exchanged between the paternal and maternal chromosomes. Meiosis I follows, where homologous chromosomes are separated into different cells. The diagram shows two cells as a result of meiosis I, one with crossing over and one without. Subsequently, Meiosis II occurs, which is similar to mitosis, where sister chromatids are separated into different cells. This results in four non-identical haploid cells if crossing over has occurred, each with a unique combination of paternal and maternal genetic material, or four identical haploid cells if there was no crossing over. This genetic diversity is crucial for the evolution and adaptation of organisms.'}]}, 'Slide 2': {'Text Input': 'DNA replication is shown in detail in the youtubevideo.  In brief the helicase enzyme is responsible for ‘breaking the hydrogen bonds that are formed between the nucleic acid bases’ or what is called meltingof the duplex to form two separate but complementary stands.  Two double stranded DNA  molecules are created by the enzyme, DNA polymerase together with free nucleotides (AGCT).  Note the direction that this enzyme moves along the strand and how this is different for the two strands.  The u-tube video gives a lot more detail.  The key message is that two identical copies of DNA are made in creating the chromosome.  This chromosome is then rapidly divided to yield two daughter cells in mitosis or four haploid gametes by meiosis.  The difference between mitosis and meiosis is that following cell division the DNA sequence in each cell following mitosis is identical, whereas following meiosis the DNA sequence in each haploid gamete is different and is made up of different sequences originating from the mother and father.  Note following fertilization of a haploid gamete the zygote will inherit different sequences from both sets of grandparents.11DNA Replication\\nSee the following animation: https://www.youtube.com/watch?v=TNKWgcFPHqw', 'Image Explantion': [{'answer': 'This image represents the process of DNA replication, a crucial biological mechanism by which a cell duplicates its DNA prior to cell division. The image shows two DNA strands unwinding from the double helix structure. At the replication fork, the enzyme helicase separates the two strands of the original DNA molecule. DNA polymerase is the enzyme that facilitates the addition of free nucleotides to the growing DNA strand. Adenine (A), thymine (T), cytosine (C), and guanine (G) are the nucleotides, which are the building blocks of DNA, pairing specifically with their complements (A with T, and C with G). The leading strand is synthesized continuously in the direction of the replication fork, while the lagging strand is synthesized in short fragments known as Okazaki fragments, which are later joined together. This process ensures that each new cell has an exact copy of the DNA molecule.'}, {'answer': \"The image is a schematic representation of the process of DNA replication. It illustrates the two strands of a DNA molecule being separated like a zipper by an enzyme called helicase. The point where the strands separate is known as the replication fork. New 'free' nucleotides are shown aligning themselves according to the rules of base pairing (Adenine with Thymine, and Cytosine with Guanine) along the template strands. DNA polymerase is the enzyme that synthesizes the new strands by adding the matching nucleotides to the existing strands. The replication is shown to occur in two directions - one strand is the leading strand, where replication moves continuously towards the replication fork, and the other is the lagging strand, where replication is discontinuous, forming short segments called Okazaki fragments that are later joined together. The colors red, blue, green, and yellow represent Adenine, Thymine, Cytosine, and Guanine, respectively. Additionally, there is a part of a chromosome at the beginning of the process, suggesting that this is where the replication is taking place. A link to a YouTube animation is provided, presumably to give a dynamic view of the process.\"}]}}"
   ]
  },
  {
   "cell_type": "code",
   "execution_count": 54,
   "metadata": {},
   "outputs": [
    {
     "data": {
      "text/plain": [
       "{'Slide 1': {'Text Input': 'Now we will consider Meiosis (not mitosis as in the previous slide.  Gametesare formed by meiosisin the gonads and are the reproductive cells of an organism. Human female gametes are called ova or egg cells and male gametes are sperm.  Gametes are haploidcells, meaning that there is one copy of each chromosome (23) in each cell. At the start of meiosis in the germ cells, the homologous chromosomes pairs align in close proximity and each of the two chromosomes ‘break’ at the same location, the breaks combine with the opposite chromosome and form a connection, known as a chiasma.  This is called homologous recombination.  Following multiple homologous recombinationsin all the autosomal chromosomes (autosome pair has the same morphology) and in the pseudoautosomalregions of the X/Y chromosomes, the cell divides twice to yield four unique haploidcells called gametes with one complete complement of chromosomes called sister chromatids. Upon cell fusion of a male and female gamete a zygoteis formed (not shown in the schematic).  The zygote is diploid, meaning it contains two copies of the genome, one from each parent meaning that there will be heterogeneity between the two inherited genome sequences. In addition, the inherited sequences will be representative of different ancestral genes due to the multiple recombination events that have occurred during 10\\nInheritance\\nhttps://www.genome.gov/genetics-glossary/Crossing-OverMeiosis –cell division in the germ cells in sexually-reproducing organisms to form the gametes(i.e. sperm and egg)•Paternal chromosomes undergo a ‘cross-over’ –called recombination.•There are an average of 26.4recombination events for male and 41.1 forfemale germ cells.•During fertilization cell fusion between the gametes (sperm and egg) results in a diploid zygote containing one copy each of the genomic DNA from the Paternal and the Maternallineages.•this results in heterogeneityin the inherited genomes between siblings (apart from twins).RECOMBINATIONDiploid germ cell \\n4 haploid gametes',\n",
       "  'Image Explantion': [{'answer': \"The image is a slide from a biology presentation discussing the process of inheritance through meiosis, which is a type of cell division that occurs in germ cells of sexually-reproducing organisms to form gametes, namely sperm and egg cells. It highlights that paternal chromosomes undergo 'cross-over', also known as recombination, which is the exchange of genetic material between chromosomes. On average, there are 26.4 recombination events for male and 41.1 for female germ cells. This process contributes to genetic diversity. The image also depicts the stages of meiosis, showing a diploid germ cell with replicated DNA undergoing recombination, followed by two stages of meiosis that result in four haploid gametes. Fertilization involves the fusion of sperm and egg cells to form a diploid zygote containing genetic information from both paternal and maternal lineages, leading to genetic heterogeneity among siblings, except in the case of identical twins.\"},\n",
       "   {'answer': 'This image illustrates the process of meiosis with the occurrence of crossing over. Meiosis is a type of cell division that reduces the chromosome number by half and is essential for sexual reproduction. The image shows a paternal chromosome (blue) and a maternal chromosome (pink) undergoing DNA replication, resulting in chromosomes that consist of two identical sister chromatids. The next step is where variation can occur: either crossing over happens or it does not. Crossing over is a process where homologous chromosomes exchange segments, leading to genetic recombination. If crossing over occurs, as depicted on the right side of the diagram, the resultant chromosomes have mixed segments of blue and pink, indicating that genetic material has been exchanged between the paternal and maternal chromosomes. Meiosis I follows, where homologous chromosomes are separated into different cells. The diagram shows two cells as a result of meiosis I, one with crossing over and one without. Subsequently, Meiosis II occurs, which is similar to mitosis, where sister chromatids are separated into different cells. This results in four non-identical haploid cells if crossing over has occurred, each with a unique combination of paternal and maternal genetic material, or four identical haploid cells if there was no crossing over. This genetic diversity is crucial for the evolution and adaptation of organisms.'}]},\n",
       " 'Slide 2': {'Text Input': 'DNA replication is shown in detail in the youtubevideo.  In brief the helicase enzyme is responsible for ‘breaking the hydrogen bonds that are formed between the nucleic acid bases’ or what is called meltingof the duplex to form two separate but complementary stands.  Two double stranded DNA  molecules are created by the enzyme, DNA polymerase together with free nucleotides (AGCT).  Note the direction that this enzyme moves along the strand and how this is different for the two strands.  The u-tube video gives a lot more detail.  The key message is that two identical copies of DNA are made in creating the chromosome.  This chromosome is then rapidly divided to yield two daughter cells in mitosis or four haploid gametes by meiosis.  The difference between mitosis and meiosis is that following cell division the DNA sequence in each cell following mitosis is identical, whereas following meiosis the DNA sequence in each haploid gamete is different and is made up of different sequences originating from the mother and father.  Note following fertilization of a haploid gamete the zygote will inherit different sequences from both sets of grandparents.11DNA Replication\\nSee the following animation: https://www.youtube.com/watch?v=TNKWgcFPHqw',\n",
       "  'Image Explantion': [{'answer': 'This image represents the process of DNA replication, a crucial biological mechanism by which a cell duplicates its DNA prior to cell division. The image shows two DNA strands unwinding from the double helix structure. At the replication fork, the enzyme helicase separates the two strands of the original DNA molecule. DNA polymerase is the enzyme that facilitates the addition of free nucleotides to the growing DNA strand. Adenine (A), thymine (T), cytosine (C), and guanine (G) are the nucleotides, which are the building blocks of DNA, pairing specifically with their complements (A with T, and C with G). The leading strand is synthesized continuously in the direction of the replication fork, while the lagging strand is synthesized in short fragments known as Okazaki fragments, which are later joined together. This process ensures that each new cell has an exact copy of the DNA molecule.'},\n",
       "   {'answer': \"The image is a schematic representation of the process of DNA replication. It illustrates the two strands of a DNA molecule being separated like a zipper by an enzyme called helicase. The point where the strands separate is known as the replication fork. New 'free' nucleotides are shown aligning themselves according to the rules of base pairing (Adenine with Thymine, and Cytosine with Guanine) along the template strands. DNA polymerase is the enzyme that synthesizes the new strands by adding the matching nucleotides to the existing strands. The replication is shown to occur in two directions - one strand is the leading strand, where replication moves continuously towards the replication fork, and the other is the lagging strand, where replication is discontinuous, forming short segments called Okazaki fragments that are later joined together. The colors red, blue, green, and yellow represent Adenine, Thymine, Cytosine, and Guanine, respectively. Additionally, there is a part of a chromosome at the beginning of the process, suggesting that this is where the replication is taking place. A link to a YouTube animation is provided, presumably to give a dynamic view of the process.\"}]}}"
      ]
     },
     "execution_count": 54,
     "metadata": {},
     "output_type": "execute_result"
    }
   ],
   "source": [
    "test"
   ]
  }
 ],
 "metadata": {
  "kernelspec": {
   "display_name": "Python 3",
   "language": "python",
   "name": "python3"
  },
  "language_info": {
   "codemirror_mode": {
    "name": "ipython",
    "version": 3
   },
   "file_extension": ".py",
   "mimetype": "text/x-python",
   "name": "python",
   "nbconvert_exporter": "python",
   "pygments_lexer": "ipython3",
   "version": "3.11.4"
  }
 },
 "nbformat": 4,
 "nbformat_minor": 2
}
